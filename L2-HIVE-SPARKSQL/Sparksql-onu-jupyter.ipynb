{
 "cells": [
  {
   "cell_type": "code",
   "execution_count": null,
   "id": "24bbb746",
   "metadata": {},
   "outputs": [],
   "source": [
    "df=spark.read.csv('s3://emontoyadatasets/onu/hdi/',inferSchema=True,header=True)"
   ]
  },
  {
   "cell_type": "code",
   "execution_count": null,
   "id": "7308d12a",
   "metadata": {},
   "outputs": [],
   "source": [
    "df.show(10)"
   ]
  },
  {
   "cell_type": "code",
   "execution_count": null,
   "id": "524596dc",
   "metadata": {},
   "outputs": [],
   "source": [
    "df.createOrReplaceTempView(\"hdi\")"
   ]
  },
  {
   "cell_type": "code",
   "execution_count": null,
   "id": "54655139",
   "metadata": {},
   "outputs": [],
   "source": [
    "dfsql = spark.sql(\"select country, lifeex from hdi where lifeex > 80\")"
   ]
  },
  {
   "cell_type": "code",
   "execution_count": null,
   "id": "da733660",
   "metadata": {},
   "outputs": [],
   "source": [
    "dfsql.show()"
   ]
  },
  {
   "cell_type": "code",
   "execution_count": null,
   "id": "dcc80994",
   "metadata": {},
   "outputs": [],
   "source": [
    "\n",
    "#target directory \n",
    "write_uri='s3://<bucket/dir>/df_csv'\n",
    "dfsql.coalesce(1).write.format(\"csv\").option(\"header\",\"true\").save(write_uri)"
   ]
  }
 ],
 "metadata": {
  "kernelspec": {
   "display_name": "PySpark",
   "language": "python",
   "name": "pysparkkernel"
  },
  "language_info": {
   "codemirror_mode": {
    "name": "python",
    "version": 3
   },
   "file_extension": ".py",
   "mimetype": "text/x-python",
   "name": "pyspark",
   "pygments_lexer": "python3"
  }
 },
 "nbformat": 4,
 "nbformat_minor": 5
}
